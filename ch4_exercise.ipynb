{
 "cells": [
  {
   "cell_type": "code",
   "execution_count": 277,
   "metadata": {},
   "outputs": [],
   "source": [
    "from sklearn import datasets\n",
    "import numpy as np\n",
    "import matplotlib.pyplot as plt"
   ]
  },
  {
   "cell_type": "code",
   "execution_count": 278,
   "metadata": {},
   "outputs": [
    {
     "name": "stdout",
     "output_type": "stream",
     "text": [
      "dict_keys(['data', 'target', 'frame', 'target_names', 'DESCR', 'feature_names', 'filename', 'data_module'])\n"
     ]
    }
   ],
   "source": [
    "data = datasets.load_iris()\n",
    "print(data.keys())"
   ]
  },
  {
   "cell_type": "code",
   "execution_count": 279,
   "metadata": {},
   "outputs": [],
   "source": [
    "X_norm = data['data'][:,[2,3]]\n",
    "y_norm = data['target']"
   ]
  },
  {
   "cell_type": "code",
   "execution_count": 280,
   "metadata": {},
   "outputs": [],
   "source": [
    "def one_hot_encode(y):\n",
    "    n_classes = len(np.unique(y))\n",
    "    one_hot_y = np.zeros((len(y),n_classes))\n",
    "    one_hot_y[np.arange(len(y)),y] = 1 #since y = 0,1,2, this determines the column to set it to 1 (true). else is 0 (false)\n",
    "    \n",
    "    return one_hot_y    "
   ]
  },
  {
   "cell_type": "markdown",
   "metadata": {},
   "source": [
    "Transform the target to a one-hot encoded vector.\n",
    "\n",
    "Append to the training data the bias term."
   ]
  },
  {
   "cell_type": "code",
   "execution_count": 281,
   "metadata": {},
   "outputs": [
    {
     "name": "stdout",
     "output_type": "stream",
     "text": [
      "[0 0 0 0 0 0 0 0 0 0]\n",
      "[[1. 0. 0.]\n",
      " [1. 0. 0.]\n",
      " [1. 0. 0.]\n",
      " [1. 0. 0.]\n",
      " [1. 0. 0.]\n",
      " [1. 0. 0.]\n",
      " [1. 0. 0.]\n",
      " [1. 0. 0.]\n",
      " [1. 0. 0.]\n",
      " [1. 0. 0.]]\n",
      "(150, 3)\n",
      "(150, 2)\n"
     ]
    }
   ],
   "source": [
    "y = one_hot_encode(y_norm)\n",
    "print(y_norm[0:10])\n",
    "print(y[0:10])\n",
    "\n",
    "X = np.c_[np.ones([len(X_norm),1]), X_norm]\n",
    "print(X.shape)\n",
    "print(X_norm.shape)"
   ]
  },
  {
   "cell_type": "code",
   "execution_count": 282,
   "metadata": {},
   "outputs": [],
   "source": [
    "#Function to split the dataset into 3 parts randomly.\n",
    "def my_split_func(X,y,test_size = .2, val_size = .2):\n",
    "    m = len(X)    \n",
    "\n",
    "    np.random.seed(42)     \n",
    "    indx = np.arange(0,m)\n",
    "    np.random.shuffle(indx)\n",
    "    \n",
    "    indx_train= indx[0:int(m*(1-test_size - val_size))]\n",
    "    indx_test = indx[int(m*(1-test_size - val_size)):int(m*(1-val_size))]\n",
    "    indx_val =  indx[int(m*(1 - val_size)): m]\n",
    "    \n",
    "    X_train, y_train = X[indx_train,:] , y[indx_train,:]\n",
    "    X_test, y_test = X[indx_test,:] , y[indx_test,:]\n",
    "    X_val, y_val = X[indx_val,:] , y[indx_val,:]\n",
    "    \n",
    "    return X_train, X_test, X_val, y_train, y_test, y_val"
   ]
  },
  {
   "cell_type": "code",
   "execution_count": 283,
   "metadata": {},
   "outputs": [],
   "source": [
    "def softmax(score_x):\n",
    "    score_x_rel = score_x - np.max(score_x,axis=1).reshape(-1,1) #to avoid overflow, remove the maximum probability\n",
    "    \n",
    "    numer = np.exp(score_x_rel)\n",
    "    denom = np.sum(np.exp(score_x_rel), axis = 1, keepdims= True)\n",
    "    return numer / denom\n",
    "    \n",
    "\n",
    "def my_predict(X,params,return_probas = False):\n",
    "    score = X.dot(params)\n",
    "    probas = softmax(score) \n",
    "    if return_probas:\n",
    "        return probas #if we want probabilities instead of predictions\n",
    "    else:\n",
    "        return np.argmax(probas,axis=1)\n",
    "    \n",
    "\n",
    "def cross_entropy_gradients(y,p_x,X):\n",
    "    diff = p_x - y\n",
    "    \n",
    "    grads = 1/len(p_x) * X.T.dot(diff)\n",
    "        \n",
    "    return grads\n",
    "\n",
    "def my_cost_function(p_x,y):\n",
    "    epsilon = 1e-6 #small addition to prevent log10(0)\n",
    "    return -np.mean(np.sum(y*np.log10(p_x+epsilon),axis=1)) #estimate the cost for these parameters"
   ]
  },
  {
   "cell_type": "code",
   "execution_count": 285,
   "metadata": {},
   "outputs": [
    {
     "name": "stdout",
     "output_type": "stream",
     "text": [
      "Iteration 0, training cost 2.37546352405998\n",
      "Iteration 500, training cost 0.2701650249654864\n",
      "Iteration 1000, training cost 0.2669751426623931\n",
      "Iteration 1500, training cost 0.266737947927817\n",
      "Iteration 2000, training cost 0.26671693997376844\n",
      "Iteration 2500, training cost 0.2667150453645324\n",
      "Iteration 3000, training cost 0.26671487420239853\n",
      "Iteration 3500, training cost 0.26671485873676376\n",
      "Iteration 4000, training cost 0.26671485733931866\n",
      "Iteration 4500, training cost 0.26671485721304794\n",
      "Iteration 5000, training cost 0.2667148572016383\n",
      "Iteration 5500, training cost 0.26671485720060745\n",
      "Stopping at iteration 5788!\n"
     ]
    },
    {
     "name": "stderr",
     "output_type": "stream",
     "text": [
      "C:\\Users\\Gerardo\\AppData\\Local\\Temp\\ipykernel_10656\\1566677742.py:54: DeprecationWarning: elementwise comparison failed; this will raise an error in the future.\n",
      "  accuracy = my_predict(X_val,params = best_params) == y_val;\n"
     ]
    },
    {
     "data": {
      "image/png": "[encoded data removed]",
      "text/plain": [
       "<Figure size 432x288 with 1 Axes>"
      ]
     },
     "metadata": {
      "needs_background": "light"
     },
     "output_type": "display_data"
    }
   ],
   "source": [
    "#hyper parameters\n",
    "lr = .1\n",
    "alpha = .7\n",
    "num_iters = 10000\n",
    "\n",
    "\n",
    "\n",
    "n_classes = len(np.unique(y_norm))\n",
    "n_features = X.shape[1]\n",
    "theta = np.random.random((n_features,n_classes)) #3 features, 3 classes\n",
    "\n",
    "min_cost = float(\"inf\")\n",
    "best_params = []\n",
    "train_costs,val_costs,test_costs = [],[],[]\n",
    "\n",
    "X_train, X_test, X_val, y_train, y_test, y_val = my_split_func(X,y,test_size = .1)\n",
    "for k in range(0,num_iters):\n",
    "\n",
    "\n",
    "    #Fit model and estimate gradients\n",
    "    scores_preds = X_train @ theta\n",
    "    p_preds = softmax(scores_preds) #identify the probabilities for each class based on the scores\n",
    "    gradients = cross_entropy_gradients(y_train,p_preds,X_train) #obtain gradients for this level\n",
    "    regularization = np.r_[np.zeros((1,n_features)), alpha *theta[1:,:]]\n",
    "\n",
    "    #Update parameters\n",
    "    theta = lr * -( gradients + regularization) + theta #update the parameters by the gradient\n",
    "    \n",
    "    \n",
    "    ## Analyze cost on the training dataset\n",
    "    this_train_cost = my_cost_function(p_preds,y_train) +  alpha/2 * np.sum(theta[1:,:]) ** 2 #cost has the l2 penalty, do not apply to bias term\n",
    "    train_costs.append(this_train_cost)\n",
    "    \n",
    "    \n",
    "    ## Analyze cost on the testing dataset\n",
    "    scores_test = X_test @ theta\n",
    "    p_test = softmax(scores_test) #extract the probabilities for the test set\n",
    "    this_test_cost = my_cost_function(p_test,y_test) +  alpha/2 * np.sum(theta[1:,:]) ** 2 #cosst has the l2 penalty\n",
    "    \n",
    "    test_costs.append(this_test_cost)\n",
    "    if this_test_cost < min_cost:\n",
    "        min_cost = this_test_cost\n",
    "        best_params = theta\n",
    "    else:\n",
    "        print(f'Stopping at iteration {k}!')\n",
    "        num_iters = k+1\n",
    "        break\n",
    "           \n",
    "    #Status update\n",
    "    if np.mod(k,500) == 0:\n",
    "        print(f'Iteration {k}, training cost {this_train_cost}')\n",
    "        \n",
    "    \n",
    "accuracy = my_predict(X_val,params = best_params) == y_val;\n",
    "        \n",
    "plt.plot(range(0,num_iters),test_costs,color = 'blue',label = 'Test Cost')\n",
    "plt.plot(range(0,num_iters),train_costs,color = 'black',label = 'Training Cost')\n",
    "plt.legend()\n",
    "plt.axvline(good_iter,color = 'red')\n",
    "plt.title('Validation accuracy: ' + str(np.round(np.mean(one_hot_encode(my_predict(X_val,best_params)) == y_val),3))); "
   ]
  },
  {
   "cell_type": "code",
   "execution_count": null,
   "metadata": {},
   "outputs": [],
   "source": []
  }
 ],
 "metadata": {
  "interpreter": {
   "hash": "5effdde1fd048803b3704d23bd87152bc8d30461613bdeefdecf9d4ac1d2da28"
  },
  "kernelspec": {
   "display_name": "Python 3.8.3 64-bit ('ml': virtualenv)",
   "language": "python",
   "name": "python3"
  },
  "language_info": {
   "codemirror_mode": {
    "name": "ipython",
    "version": 3
   },
   "file_extension": ".py",
   "mimetype": "text/x-python",
   "name": "python",
   "nbconvert_exporter": "python",
   "pygments_lexer": "ipython3",
   "version": "3.8.3"
  },
  "orig_nbformat": 4
 },
 "nbformat": 4,
 "nbformat_minor": 2
}
