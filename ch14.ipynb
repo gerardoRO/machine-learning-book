{
 "cells": [
  {
   "cell_type": "code",
   "execution_count": 1,
   "metadata": {},
   "outputs": [],
   "source": [
    "import numpy as np\n",
    "import pandas as pd\n",
    "\n",
    "import matplotlib.pyplot as plt\n",
    "\n",
    "import tensorflow as tf\n",
    "from tensorflow import keras"
   ]
  },
  {
   "cell_type": "markdown",
   "metadata": {},
   "source": [
    "Defining Resnet-34"
   ]
  },
  {
   "cell_type": "code",
   "execution_count": 10,
   "metadata": {},
   "outputs": [],
   "source": [
    "class ResidualUnit(keras.layers.Layer):\n",
    "    def __init__(self,filters,strides=1,activation='relu',**kwargs):\n",
    "        super().__init__(**kwargs)\n",
    "        self.activation = keras.activations.get(activation)\n",
    "        self.main_layers = [\n",
    "            keras.layers.Conv2D(filters, 3, strides = strides, padding = 'same', use_bias = False),\n",
    "            keras.layers.BatchNormalization(),\n",
    "            self.activation,\n",
    "            keras.layers.Conv2D(filters, 3, strides = 1, padding = 'same', use_bias = False),\n",
    "            keras.layers.BatchNormalization()]\n",
    "        self.skip_layers = []\n",
    "        if strides > 1:\n",
    "            self.skip_layers = [\n",
    "                keras.layers.Conv2D(filters, 1, strides = strides, padding = 'same', use_bias = False),\n",
    "                keras.layers.BatchNormalization()]\n",
    "            \n",
    "    def call(self,inputs):\n",
    "        Z = inputs\n",
    "        for layer in self.main_layers:\n",
    "            Z = layer(Z)\n",
    "        skip_Z = inputs\n",
    "        for layer in self.skip_layers:\n",
    "            skip_Z = layer(skip_Z)\n",
    "            \n",
    "        return self.activation(Z + skip_Z)"
   ]
  },
  {
   "cell_type": "code",
   "execution_count": 12,
   "metadata": {},
   "outputs": [],
   "source": [
    "model = keras.models.Sequential()\n",
    "model.add(keras.layers.Conv2D(64,7,strides=2,input_shape = [224,224,3],padding='same',use_bias = False))\n",
    "model.add(keras.layers.BatchNormalization())\n",
    "model.add(keras.layers.Activation('relu'))\n",
    "model.add(keras.layers.MaxPool2D(pool_size = 3, strides = 2, padding = 'same'))\n",
    "\n",
    "prev_filter = 64\n",
    "for filters in [64]*3 + [128]*4 + [256]*6 + [512]*3:\n",
    "    strides = 1 if filters == prev_filter else 2\n",
    "    model.add(ResidualUnit(filters,strides = strides))\n",
    "    prev_filters = filters\n",
    "    \n",
    "model.add(keras.layers.GlobalAvgPool2D())\n",
    "model.add(keras.layers.Flatten())\n",
    "model.add(keras.layers.Dense(10,activation = 'softmax'))"
   ]
  },
  {
   "cell_type": "markdown",
   "metadata": {},
   "source": [
    "## Working with Pre-trained Models"
   ]
  },
  {
   "cell_type": "code",
   "execution_count": 8,
   "metadata": {},
   "outputs": [],
   "source": [
    "from sklearn.datasets import load_sample_image\n",
    "\n",
    "import numpy as np\n",
    "\n",
    "import tensorflow as tf\n",
    "from tensorflow import keras"
   ]
  },
  {
   "cell_type": "code",
   "execution_count": 9,
   "metadata": {},
   "outputs": [],
   "source": [
    "china = load_sample_image('china.jpg')/255\n",
    "flower = load_sample_image('flower.jpg')/255\n",
    "\n",
    "images = np.array([china,flower])\n",
    "\n",
    "batch_size , height, width, channels = images.shape"
   ]
  },
  {
   "cell_type": "code",
   "execution_count": 12,
   "metadata": {},
   "outputs": [
    {
     "name": "stdout",
     "output_type": "stream",
     "text": [
      "Downloading data from https://storage.googleapis.com/tensorflow/keras-applications/resnet/resnet50_weights_tf_dim_ordering_tf_kernels.h5\n",
      "102973440/102967424 [==============================] - 2s 0us/step\n",
      "102981632/102967424 [==============================] - 2s 0us/step\n"
     ]
    }
   ],
   "source": [
    "model = keras.applications.resnet50.ResNet50(weights = 'imagenet')"
   ]
  },
  {
   "cell_type": "code",
   "execution_count": 13,
   "metadata": {},
   "outputs": [],
   "source": [
    "images_resized = tf.image.resize(images, [224, 224])"
   ]
  },
  {
   "cell_type": "code",
   "execution_count": 14,
   "metadata": {},
   "outputs": [
    {
     "name": "stdout",
     "output_type": "stream",
     "text": [
      "Downloading data from https://storage.googleapis.com/download.tensorflow.org/data/imagenet_class_index.json\n",
      "40960/35363 [==================================] - 0s 1us/step\n",
      "49152/35363 [=========================================] - 0s 1us/step\n",
      "Image #0\n",
      " n02825657 - bell_cote    82.35\n",
      " n03877845 - palace       6.75\n",
      " n03781244 - monastery    4.19\n",
      "\n",
      "Image #1\n",
      " n03530642 - honeycomb    49.81\n",
      " n13040303 - stinkhorn    33.96\n",
      " n02206856 - bee          4.35\n",
      "\n"
     ]
    }
   ],
   "source": [
    "inputs = keras.applications.resnet50.preprocess_input(images_resized*255)\n",
    "\n",
    "Y_probas = model.predict(inputs)\n",
    "top_K = keras.applications.resnet50.decode_predictions(Y_probas,top=3)\n",
    "for image_index in range(len(images)):\n",
    "    print('Image #{}'.format(image_index))\n",
    "    for class_id,name,y_proba in top_K[image_index]:\n",
    "        print(' {} - {:12s} {:.2f}'.format(class_id,name,y_proba*100))\n",
    "    print()"
   ]
  },
  {
   "cell_type": "markdown",
   "metadata": {},
   "source": [
    "## Transfer Learning "
   ]
  },
  {
   "cell_type": "code",
   "execution_count": 2,
   "metadata": {},
   "outputs": [],
   "source": [
    "import tensorflow_datasets as tfds"
   ]
  },
  {
   "cell_type": "code",
   "execution_count": 3,
   "metadata": {},
   "outputs": [],
   "source": [
    "dataset,info = tfds.load('tf_flowers', as_supervised = True, with_info = True)\n",
    "\n",
    "dataset_size = info.splits['train'].num_examples\n",
    "class_names = info.features['label'].names\n",
    "n_classes = info.features['label'].num_classes\n",
    "\n",
    "test_set_raw,valid_set_raw,train_set_raw = tfds.load('tf_flowers',split = ['train[:10%]', 'train[10%:25%]', 'train[25%:]'], as_supervised = True)"
   ]
  },
  {
   "cell_type": "code",
   "execution_count": 4,
   "metadata": {},
   "outputs": [],
   "source": [
    "def preprocess(image, label):\n",
    "    resized_image = tf.image.resize(image,[224,224])\n",
    "    final_image = keras.applications.xception.preprocess_input(resized_image)\n",
    "    \n",
    "    return final_image, label"
   ]
  },
  {
   "cell_type": "code",
   "execution_count": 5,
   "metadata": {},
   "outputs": [],
   "source": [
    "batch_size = 32\n",
    "train_set_raw = train_set_raw.shuffle(1000)\n",
    "train_set = train_set_raw.map(preprocess).batch(batch_size).prefetch(1)\n",
    "valid_set = valid_set_raw.map(preprocess).batch(batch_size).prefetch(1)\n",
    "test_set = test_set_raw.map(preprocess).batch(batch_size).prefetch(1)"
   ]
  },
  {
   "cell_type": "code",
   "execution_count": 6,
   "metadata": {},
   "outputs": [],
   "source": [
    "base_model = keras.applications.xception.Xception(weights = 'imagenet',include_top = False) #don't load the top, since we will train ourselves\n",
    "\n",
    "avg = keras.layers.GlobalAveragePooling2D()(base_model.output)\n",
    "output = keras.layers.Dense(n_classes,activation = 'softmax')(avg)\n",
    "model = keras.Model(inputs = base_model.input , outputs = output)\n",
    "\n",
    "for layer in base_model.layers: #freeze early layers in base model\n",
    "    layer.trainable = False"
   ]
  },
  {
   "cell_type": "code",
   "execution_count": 7,
   "metadata": {},
   "outputs": [
    {
     "name": "stdout",
     "output_type": "stream",
     "text": [
      "Epoch 1/5\n"
     ]
    }
   ],
   "source": [
    "early_stop = keras.callbacks.EarlyStopping(patience = 10, restore_best_weights=True)\n",
    "\n",
    "optimizer = keras.optimizers.SGD(learning_rate = 0.2, momentum = 0.9, decay = 0.01)\n",
    "model.compile(loss='sparse_categorical_crossentropy',optimizer = optimizer, metrics = ['accuracy'])\n",
    "history = model.fit(train_set,epochs =5, validation_data = valid_set)"
   ]
  },
  {
   "cell_type": "code",
   "execution_count": null,
   "metadata": {},
   "outputs": [],
   "source": []
  }
 ],
 "metadata": {
  "interpreter": {
   "hash": "6ffb14accc1fce094d0277faef16b62359a1687f3276fab306fad88c16a000e0"
  },
  "kernelspec": {
   "display_name": "Python 3.8.12 ('ml')",
   "language": "python",
   "name": "python3"
  },
  "language_info": {
   "codemirror_mode": {
    "name": "ipython",
    "version": 3
   },
   "file_extension": ".py",
   "mimetype": "text/x-python",
   "name": "python",
   "nbconvert_exporter": "python",
   "pygments_lexer": "ipython3",
   "version": "3.10.2"
  },
  "orig_nbformat": 4
 },
 "nbformat": 4,
 "nbformat_minor": 2
}
